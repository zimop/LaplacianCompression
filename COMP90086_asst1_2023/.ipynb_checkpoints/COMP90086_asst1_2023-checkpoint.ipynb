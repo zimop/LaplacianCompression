{
 "cells": [
  {
   "cell_type": "markdown",
   "metadata": {},
   "source": [
    "### The University of Melbourne, School of Computing and Information Systems\n",
    "# COMP90086 Computer Vision, 2023 Semester 2\n",
    "\n",
    "## Assignment 1"
   ]
  },
  {
   "cell_type": "markdown",
   "metadata": {},
   "source": [
    "**Student Name:**    `Zimo Peng`\n",
    "\n",
    "**Student ID:**     `1143743`\n"
   ]
  },
  {
   "cell_type": "markdown",
   "metadata": {},
   "source": [
    "This iPython notebook is a template which you should use for your Assignment 1 submission. This file should be submitted at the **Assignment 1** link on the LMS, along with any images needed to run your code.\n",
    "\n",
    "In addition to this file, you should submit a written report explaining your results at the **Assignment 1** link on the LMS. Please see the assignment specification for details on what must be included in the report for each question.\n",
    "\n",
    "*Adding proper comments to your code is MANDATORY.*"
   ]
  },
  {
   "cell_type": "markdown",
   "metadata": {},
   "source": [
    "### 0. Laplacian pyramid compression\n",
    "You can use the code below to check how much a quantized Laplacian pyramid representation compresses an image."
   ]
  },
  {
   "cell_type": "code",
   "execution_count": 1,
   "metadata": {},
   "outputs": [
    {
     "name": "stdout",
     "output_type": "stream",
     "text": [
      "Uncompressed size = 524288 bits\n",
      "Compressed size = 203840.0 bits\n",
      "39% of original\n"
     ]
    }
   ],
   "source": [
    "imSize = 256 # image height/width (assume image is square)\n",
    "bitsPerLevel = [2,3,4,5,6,7,8] # bits used to encode each level of pyramid\n",
    "\n",
    "# Image size before compression, in bits (assume uint8 grayscale)\n",
    "sizeUncompressed = 8 * imSize * imSize\n",
    "print('Uncompressed size = '+str(sizeUncompressed)+' bits')\n",
    "\n",
    "# Image size after compression, in bits\n",
    "sizeCompressed = 0\n",
    "for i in range(len(bitsPerLevel)):\n",
    "    sizeCompressed = sizeCompressed + (bitsPerLevel[i]*(imSize/(pow(2,i)))*(imSize/(pow(2,i))))\n",
    "print('Compressed size = '+str(sizeCompressed)+' bits')\n",
    "\n",
    "print(str(round(100*sizeCompressed/sizeUncompressed))+'% of original')"
   ]
  },
  {
   "cell_type": "markdown",
   "metadata": {},
   "source": [
    "### 1. Laplacian image pyramid"
   ]
  },
  {
   "cell_type": "code",
   "execution_count": 36,
   "metadata": {},
   "outputs": [
    {
     "name": "stdout",
     "output_type": "stream",
     "text": [
      "(256, 256, 3)\n"
     ]
    },
    {
     "ename": "error",
     "evalue": "OpenCV(4.8.0) :-1: error: (-5:Bad argument) in function 'filter2D'\n> Overload resolution failed:\n>  - filter2D() missing required argument 'ddepth' (pos 2)\n>  - filter2D() missing required argument 'ddepth' (pos 2)\n",
     "output_type": "error",
     "traceback": [
      "\u001b[1;31m---------------------------------------------------------------------------\u001b[0m",
      "\u001b[1;31merror\u001b[0m                                     Traceback (most recent call last)",
      "Cell \u001b[1;32mIn[36], line 27\u001b[0m\n\u001b[0;32m     24\u001b[0m layers \u001b[38;5;241m=\u001b[39m \u001b[38;5;28mdict\u001b[39m()\n\u001b[0;32m     25\u001b[0m count \u001b[38;5;241m=\u001b[39m \u001b[38;5;241m0\u001b[39m\n\u001b[1;32m---> 27\u001b[0m \u001b[43mlaplacian_pyramid\u001b[49m\u001b[43m(\u001b[49m\u001b[38;5;241;43m5\u001b[39;49m\u001b[43m,\u001b[49m\u001b[43m \u001b[49m\u001b[43mcamera_img\u001b[49m\u001b[43m,\u001b[49m\u001b[43m \u001b[49m\u001b[43mkernel\u001b[49m\u001b[43m)\u001b[49m\n\u001b[0;32m     29\u001b[0m \u001b[38;5;28;01mdef\u001b[39;00m \u001b[38;5;21mlaplacian_pyramid\u001b[39m(n, image, kernel):\n\u001b[0;32m     30\u001b[0m     \u001b[38;5;28;01mfor\u001b[39;00m i \u001b[38;5;129;01min\u001b[39;00m \u001b[38;5;28mrange\u001b[39m(n):\n",
      "Cell \u001b[1;32mIn[20], line 25\u001b[0m, in \u001b[0;36mlaplacian_pyramid\u001b[1;34m(n, image, kernel)\u001b[0m\n\u001b[0;32m     23\u001b[0m \u001b[38;5;28;01mfor\u001b[39;00m i \u001b[38;5;129;01min\u001b[39;00m \u001b[38;5;28mrange\u001b[39m(n):\n\u001b[0;32m     24\u001b[0m     \u001b[38;5;28;01mif\u001b[39;00m (i \u001b[38;5;241m<\u001b[39m n \u001b[38;5;241m-\u001b[39m \u001b[38;5;241m1\u001b[39m):\n\u001b[1;32m---> 25\u001b[0m         filtered \u001b[38;5;241m=\u001b[39m \u001b[43mcv2\u001b[49m\u001b[38;5;241;43m.\u001b[39;49m\u001b[43mfilter2D\u001b[49m\u001b[43m(\u001b[49m\u001b[43msrc\u001b[49m\u001b[38;5;241;43m=\u001b[39;49m\u001b[43mcamera_img\u001b[49m\u001b[43m \u001b[49m\u001b[43m,\u001b[49m\u001b[43m \u001b[49m\u001b[43mkernel\u001b[49m\u001b[38;5;241;43m=\u001b[39;49m\u001b[43mkernel\u001b[49m\u001b[43m)\u001b[49m\n\u001b[0;32m     26\u001b[0m         heights \u001b[38;5;241m=\u001b[39m downsample(camera_img[\u001b[38;5;241m0\u001b[39m])\n\u001b[0;32m     27\u001b[0m         width \u001b[38;5;241m=\u001b[39m downsample(camera_img[\u001b[38;5;241m1\u001b[39m])\n",
      "\u001b[1;31merror\u001b[0m: OpenCV(4.8.0) :-1: error: (-5:Bad argument) in function 'filter2D'\n> Overload resolution failed:\n>  - filter2D() missing required argument 'ddepth' (pos 2)\n>  - filter2D() missing required argument 'ddepth' (pos 2)\n"
     ]
    }
   ],
   "source": [
    "import numpy as np\n",
    "import cv2\n",
    "import os\n",
    "\n",
    "# Define the filter kernel\n",
    "Ikernel = (1/256)*np.array([[1, 4, 6, 4, 1],\n",
    "                           [4, 16, 24, 16, 4],\n",
    "                           [6, 24, 36, 24, 6],\n",
    "                           [4, 16, 24, 16, 4],\n",
    "                           [1, 4, 6, 4, 1]])\n",
    "\n",
    "camera_man = './'\n",
    "camera_img = cv2.imread(os.path.join(camera_man, \"cameraman.png\"))\n",
    "camera_img = cv2.cvtColor(camera_img,cv2.COLOR_BGR2RGB)\n",
    "\n",
    "print(camera_img.shape)\n",
    "\n",
    "\n",
    "\n",
    "new_img_height = []\n",
    "new_img_width = []\n",
    "\n",
    "        \n",
    "layers = dict()\n",
    "count = 0\n",
    "\n",
    "laplacian_pyramid(5, camera_img, kernel)\n",
    "\n",
    "def laplacian_pyramid(n, image, kernel):\n",
    "    for i in range(n):\n",
    "        if (i < n - 1):\n",
    "            filtered = cv2.filter2D(src=camera_img, kernel=Ikernel, ddepth=-1)\n",
    "            heights = downsample(camera_img[0])\n",
    "            widths = downsample(camera_img[1])\n",
    "            upsampled_text = np.array([upsample(heights), upsample(widths), 3])\n",
    "            filtered_u = cvs.filter2D(src=unsampled_text, kernel=4*kernel, ddepth = -1)\n",
    "            layers[count] = np.array([filtered[0] - filtered_u[0], filtered[1] - filtered_u[1], 3])\n",
    "            count += 1\n",
    "            filtered = np.array([heights, widths, 3])\n",
    "        else:\n",
    "            layer[count] = filtered\n",
    "            \n",
    "            \n",
    "            \n",
    "def downsample(dim_list):            \n",
    "    for i in range(len(dim_list)):\n",
    "        if ((i % 2) == 0):\n",
    "            new_img.append(dim_list[i])  \n",
    "    return dim_list\n",
    "\n",
    "def upsample(dim_list):\n",
    "    for i in range(len(dim_list)):\n",
    "        if ((i % 2) == 0):\n",
    "            new_img.append(dim_list[i]) \n",
    "        else:\n",
    "            new_img.append([0,0,0])\n",
    "    return dim_list"
   ]
  },
  {
   "cell_type": "markdown",
   "metadata": {},
   "source": [
    "### 2. Quantization and compression"
   ]
  },
  {
   "cell_type": "code",
   "execution_count": null,
   "metadata": {},
   "outputs": [],
   "source": []
  },
  {
   "cell_type": "markdown",
   "metadata": {},
   "source": [
    "### 3. Evaluation in the frequency domain"
   ]
  },
  {
   "cell_type": "code",
   "execution_count": null,
   "metadata": {},
   "outputs": [],
   "source": []
  }
 ],
 "metadata": {
  "kernelspec": {
   "display_name": "Python 3 (ipykernel)",
   "language": "python",
   "name": "python3"
  },
  "language_info": {
   "codemirror_mode": {
    "name": "ipython",
    "version": 3
   },
   "file_extension": ".py",
   "mimetype": "text/x-python",
   "name": "python",
   "nbconvert_exporter": "python",
   "pygments_lexer": "ipython3",
   "version": "3.9.17"
  }
 },
 "nbformat": 4,
 "nbformat_minor": 4
}
